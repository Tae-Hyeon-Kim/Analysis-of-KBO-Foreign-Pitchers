{
 "cells": [
  {
   "cell_type": "code",
   "execution_count": 1,
   "id": "36dc98f4",
   "metadata": {},
   "outputs": [],
   "source": [
    "import pickle\n",
    "import gzip\n",
    "import pandas as pd"
   ]
  },
  {
   "cell_type": "code",
   "execution_count": 2,
   "id": "989519a3",
   "metadata": {},
   "outputs": [],
   "source": [
    "with gzip.open('new_data/svt_df.pickle','rb') as f:\n",
    "    svt_df = pickle.load(f)\n",
    "fan_df = pd.read_csv('new_data/fan_df.csv')\n",
    "kbo_df = pd.read_csv('new_data/kbo_df.csv')"
   ]
  },
  {
   "cell_type": "markdown",
   "id": "c3fcbe3f",
   "metadata": {},
   "source": [
    "# 선수 분류"
   ]
  },
  {
   "cell_type": "markdown",
   "id": "2f31b02f",
   "metadata": {},
   "source": [
    "# 기준  \n",
    "- 10승 이상\n",
    "- 160? 이닝 이상\n",
    "- 방어율 4 이하?\n",
    "- war에 따라\n",
    "- 재계약 여부"
   ]
  },
  {
   "cell_type": "code",
   "execution_count": 3,
   "id": "f6020bb2",
   "metadata": {},
   "outputs": [
    {
     "data": {
      "text/html": [
       "<div>\n",
       "<style scoped>\n",
       "    .dataframe tbody tr th:only-of-type {\n",
       "        vertical-align: middle;\n",
       "    }\n",
       "\n",
       "    .dataframe tbody tr th {\n",
       "        vertical-align: top;\n",
       "    }\n",
       "\n",
       "    .dataframe thead th {\n",
       "        text-align: right;\n",
       "    }\n",
       "</style>\n",
       "<table border=\"1\" class=\"dataframe\">\n",
       "  <thead>\n",
       "    <tr style=\"text-align: right;\">\n",
       "      <th></th>\n",
       "      <th>Name</th>\n",
       "      <th>Season</th>\n",
       "      <th>Team</th>\n",
       "      <th>G</th>\n",
       "      <th>CG</th>\n",
       "      <th>ShO</th>\n",
       "      <th>GS</th>\n",
       "      <th>W</th>\n",
       "      <th>L</th>\n",
       "      <th>SV</th>\n",
       "      <th>...</th>\n",
       "      <th>SO</th>\n",
       "      <th>BK</th>\n",
       "      <th>WP</th>\n",
       "      <th>ERA</th>\n",
       "      <th>FIP</th>\n",
       "      <th>WHIP</th>\n",
       "      <th>ERA+</th>\n",
       "      <th>FIP+</th>\n",
       "      <th>WAR</th>\n",
       "      <th>WPA</th>\n",
       "    </tr>\n",
       "  </thead>\n",
       "  <tbody>\n",
       "    <tr>\n",
       "      <th>0</th>\n",
       "      <td>니퍼트</td>\n",
       "      <td>2011</td>\n",
       "      <td>두</td>\n",
       "      <td>29</td>\n",
       "      <td>2</td>\n",
       "      <td>1</td>\n",
       "      <td>29</td>\n",
       "      <td>15</td>\n",
       "      <td>6</td>\n",
       "      <td>0</td>\n",
       "      <td>...</td>\n",
       "      <td>150</td>\n",
       "      <td>0</td>\n",
       "      <td>10</td>\n",
       "      <td>2.55</td>\n",
       "      <td>3.33</td>\n",
       "      <td>1.14</td>\n",
       "      <td>160.6</td>\n",
       "      <td>123.0</td>\n",
       "      <td>6.09</td>\n",
       "      <td>NaN</td>\n",
       "    </tr>\n",
       "    <tr>\n",
       "      <th>1</th>\n",
       "      <td>주키치</td>\n",
       "      <td>2011</td>\n",
       "      <td>L</td>\n",
       "      <td>32</td>\n",
       "      <td>1</td>\n",
       "      <td>1</td>\n",
       "      <td>31</td>\n",
       "      <td>10</td>\n",
       "      <td>8</td>\n",
       "      <td>1</td>\n",
       "      <td>...</td>\n",
       "      <td>150</td>\n",
       "      <td>3</td>\n",
       "      <td>7</td>\n",
       "      <td>3.60</td>\n",
       "      <td>3.05</td>\n",
       "      <td>1.21</td>\n",
       "      <td>114.0</td>\n",
       "      <td>134.6</td>\n",
       "      <td>5.08</td>\n",
       "      <td>NaN</td>\n",
       "    </tr>\n",
       "    <tr>\n",
       "      <th>2</th>\n",
       "      <td>로페즈</td>\n",
       "      <td>2011</td>\n",
       "      <td>K</td>\n",
       "      <td>26</td>\n",
       "      <td>1</td>\n",
       "      <td>0</td>\n",
       "      <td>24</td>\n",
       "      <td>11</td>\n",
       "      <td>9</td>\n",
       "      <td>1</td>\n",
       "      <td>...</td>\n",
       "      <td>106</td>\n",
       "      <td>0</td>\n",
       "      <td>3</td>\n",
       "      <td>3.98</td>\n",
       "      <td>3.64</td>\n",
       "      <td>1.17</td>\n",
       "      <td>103.8</td>\n",
       "      <td>113.6</td>\n",
       "      <td>3.59</td>\n",
       "      <td>NaN</td>\n",
       "    </tr>\n",
       "    <tr>\n",
       "      <th>3</th>\n",
       "      <td>리즈</td>\n",
       "      <td>2011</td>\n",
       "      <td>L</td>\n",
       "      <td>30</td>\n",
       "      <td>1</td>\n",
       "      <td>0</td>\n",
       "      <td>28</td>\n",
       "      <td>11</td>\n",
       "      <td>13</td>\n",
       "      <td>0</td>\n",
       "      <td>...</td>\n",
       "      <td>122</td>\n",
       "      <td>1</td>\n",
       "      <td>8</td>\n",
       "      <td>3.88</td>\n",
       "      <td>4.38</td>\n",
       "      <td>1.42</td>\n",
       "      <td>105.7</td>\n",
       "      <td>93.6</td>\n",
       "      <td>2.82</td>\n",
       "      <td>NaN</td>\n",
       "    </tr>\n",
       "    <tr>\n",
       "      <th>4</th>\n",
       "      <td>사도스키</td>\n",
       "      <td>2011</td>\n",
       "      <td>롯</td>\n",
       "      <td>25</td>\n",
       "      <td>0</td>\n",
       "      <td>0</td>\n",
       "      <td>25</td>\n",
       "      <td>11</td>\n",
       "      <td>8</td>\n",
       "      <td>0</td>\n",
       "      <td>...</td>\n",
       "      <td>79</td>\n",
       "      <td>0</td>\n",
       "      <td>11</td>\n",
       "      <td>3.91</td>\n",
       "      <td>4.67</td>\n",
       "      <td>1.30</td>\n",
       "      <td>107.3</td>\n",
       "      <td>89.8</td>\n",
       "      <td>2.49</td>\n",
       "      <td>NaN</td>\n",
       "    </tr>\n",
       "  </tbody>\n",
       "</table>\n",
       "<p>5 rows × 32 columns</p>\n",
       "</div>"
      ],
      "text/plain": [
       "   Name  Season Team   G  CG  ShO  GS   W   L  SV  ...   SO  BK  WP   ERA  \\\n",
       "0   니퍼트    2011    두  29   2    1  29  15   6   0  ...  150   0  10  2.55   \n",
       "1   주키치    2011    L  32   1    1  31  10   8   1  ...  150   3   7  3.60   \n",
       "2   로페즈    2011    K  26   1    0  24  11   9   1  ...  106   0   3  3.98   \n",
       "3    리즈    2011    L  30   1    0  28  11  13   0  ...  122   1   8  3.88   \n",
       "4  사도스키    2011    롯  25   0    0  25  11   8   0  ...   79   0  11  3.91   \n",
       "\n",
       "    FIP  WHIP   ERA+   FIP+   WAR  WPA  \n",
       "0  3.33  1.14  160.6  123.0  6.09  NaN  \n",
       "1  3.05  1.21  114.0  134.6  5.08  NaN  \n",
       "2  3.64  1.17  103.8  113.6  3.59  NaN  \n",
       "3  4.38  1.42  105.7   93.6  2.82  NaN  \n",
       "4  4.67  1.30  107.3   89.8  2.49  NaN  \n",
       "\n",
       "[5 rows x 32 columns]"
      ]
     },
     "execution_count": 3,
     "metadata": {},
     "output_type": "execute_result"
    }
   ],
   "source": [
    "kbo_df.head()"
   ]
  },
  {
   "cell_type": "code",
   "execution_count": 8,
   "id": "d0f5cf5b",
   "metadata": {},
   "outputs": [
    {
     "data": {
      "text/plain": [
       "0    172\n",
       "1    105\n",
       "Name: 10w, dtype: int64"
      ]
     },
     "execution_count": 8,
     "metadata": {},
     "output_type": "execute_result"
    }
   ],
   "source": [
    "kbo_df['10w'] = kbo_df['W'].map(lambda x:1 if x>=10 else 0)\n",
    "kbo_df['10w'].value_counts()"
   ]
  },
  {
   "cell_type": "code",
   "execution_count": 11,
   "id": "e60a25ae",
   "metadata": {},
   "outputs": [
    {
     "data": {
      "text/plain": [
       "0    173\n",
       "1    104\n",
       "Name: 160ip, dtype: int64"
      ]
     },
     "execution_count": 11,
     "metadata": {},
     "output_type": "execute_result"
    }
   ],
   "source": [
    "kbo_df['160ip'] = kbo_df['IP'].map(lambda x:1 if x>=160 else 0)\n",
    "kbo_df['160ip'].value_counts()"
   ]
  }
 ],
 "metadata": {
  "kernelspec": {
   "display_name": "Python 3 (ipykernel)",
   "language": "python",
   "name": "python3"
  },
  "language_info": {
   "codemirror_mode": {
    "name": "ipython",
    "version": 3
   },
   "file_extension": ".py",
   "mimetype": "text/x-python",
   "name": "python",
   "nbconvert_exporter": "python",
   "pygments_lexer": "ipython3",
   "version": "3.11.5"
  },
  "toc": {
   "base_numbering": 1,
   "nav_menu": {},
   "number_sections": true,
   "sideBar": true,
   "skip_h1_title": false,
   "title_cell": "Table of Contents",
   "title_sidebar": "Contents",
   "toc_cell": false,
   "toc_position": {},
   "toc_section_display": true,
   "toc_window_display": false
  },
  "varInspector": {
   "cols": {
    "lenName": 16,
    "lenType": 16,
    "lenVar": 40
   },
   "kernels_config": {
    "python": {
     "delete_cmd_postfix": "",
     "delete_cmd_prefix": "del ",
     "library": "var_list.py",
     "varRefreshCmd": "print(var_dic_list())"
    },
    "r": {
     "delete_cmd_postfix": ") ",
     "delete_cmd_prefix": "rm(",
     "library": "var_list.r",
     "varRefreshCmd": "cat(var_dic_list()) "
    }
   },
   "types_to_exclude": [
    "module",
    "function",
    "builtin_function_or_method",
    "instance",
    "_Feature"
   ],
   "window_display": false
  }
 },
 "nbformat": 4,
 "nbformat_minor": 5
}
